{
 "cells": [
  {
   "cell_type": "markdown",
   "id": "819768dd",
   "metadata": {},
   "source": [
    "# CodeAlong: From Distributions to Hypotheses"
   ]
  },
  {
   "cell_type": "markdown",
   "id": "aa1b2062",
   "metadata": {},
   "source": [
    "## Learning Objectives"
   ]
  },
  {
   "cell_type": "markdown",
   "id": "4e8ecd70",
   "metadata": {},
   "source": [
    "- To be able to use probability density functions to calculate probability of specific values.\n",
    "\n",
    "- To identify normally distributed features.\n",
    "- To perform a hypothesis test to compare numeric data between 2 groups."
   ]
  },
  {
   "cell_type": "code",
   "execution_count": 1,
   "id": "e4b02c30",
   "metadata": {
    "ExecuteTime": {
     "end_time": "2022-06-02T23:50:10.771876Z",
     "start_time": "2022-06-02T23:50:10.032439Z"
    }
   },
   "outputs": [],
   "source": [
    "import pandas as pd\n",
    "import numpy as np\n",
    "\n",
    "import matplotlib as mpl\n",
    "import matplotlib.pyplot as plt\n",
    "import seaborn as sns\n",
    "from scipy import stats\n",
    "\n",
    "sns.set_context('talk')\n",
    "mpl.rcParams['figure.figsize'] = [12,6]"
   ]
  },
  {
   "cell_type": "markdown",
   "id": "879ffc91",
   "metadata": {},
   "source": [
    "## Exploring Distributions "
   ]
  },
  {
   "cell_type": "markdown",
   "id": "63af3ba6",
   "metadata": {},
   "source": [
    "Dataset: https://archive.ics.uci.edu/ml/datasets/student+performance"
   ]
  },
  {
   "cell_type": "code",
   "execution_count": 3,
   "id": "2f67ee90",
   "metadata": {},
   "outputs": [],
   "source": [
    "pd.set_option('display.max_columns',100)"
   ]
  },
  {
   "cell_type": "code",
   "execution_count": 4,
   "id": "128a2488",
   "metadata": {},
   "outputs": [
    {
     "name": "stdout",
     "output_type": "stream",
     "text": [
      "<class 'pandas.core.frame.DataFrame'>\n",
      "RangeIndex: 395 entries, 0 to 394\n",
      "Data columns (total 33 columns):\n",
      " #   Column      Non-Null Count  Dtype \n",
      "---  ------      --------------  ----- \n",
      " 0   school      395 non-null    object\n",
      " 1   sex         395 non-null    object\n",
      " 2   age         395 non-null    int64 \n",
      " 3   address     395 non-null    object\n",
      " 4   famsize     395 non-null    object\n",
      " 5   Pstatus     395 non-null    object\n",
      " 6   Medu        395 non-null    int64 \n",
      " 7   Fedu        395 non-null    int64 \n",
      " 8   Mjob        395 non-null    object\n",
      " 9   Fjob        395 non-null    object\n",
      " 10  reason      395 non-null    object\n",
      " 11  guardian    395 non-null    object\n",
      " 12  traveltime  395 non-null    int64 \n",
      " 13  studytime   395 non-null    int64 \n",
      " 14  failures    395 non-null    int64 \n",
      " 15  schoolsup   395 non-null    object\n",
      " 16  famsup      395 non-null    object\n",
      " 17  paid        395 non-null    object\n",
      " 18  activities  395 non-null    object\n",
      " 19  nursery     395 non-null    object\n",
      " 20  higher      395 non-null    object\n",
      " 21  internet    395 non-null    object\n",
      " 22  romantic    395 non-null    object\n",
      " 23  famrel      395 non-null    int64 \n",
      " 24  freetime    395 non-null    int64 \n",
      " 25  goout       395 non-null    int64 \n",
      " 26  Dalc        395 non-null    int64 \n",
      " 27  Walc        395 non-null    int64 \n",
      " 28  health      395 non-null    int64 \n",
      " 29  absences    395 non-null    int64 \n",
      " 30  G1          395 non-null    int64 \n",
      " 31  G2          395 non-null    int64 \n",
      " 32  G3          395 non-null    int64 \n",
      "dtypes: int64(16), object(17)\n",
      "memory usage: 102.0+ KB\n"
     ]
    },
    {
     "data": {
      "text/html": [
       "<div>\n",
       "<style scoped>\n",
       "    .dataframe tbody tr th:only-of-type {\n",
       "        vertical-align: middle;\n",
       "    }\n",
       "\n",
       "    .dataframe tbody tr th {\n",
       "        vertical-align: top;\n",
       "    }\n",
       "\n",
       "    .dataframe thead th {\n",
       "        text-align: right;\n",
       "    }\n",
       "</style>\n",
       "<table border=\"1\" class=\"dataframe\">\n",
       "  <thead>\n",
       "    <tr style=\"text-align: right;\">\n",
       "      <th></th>\n",
       "      <th>school</th>\n",
       "      <th>sex</th>\n",
       "      <th>age</th>\n",
       "      <th>address</th>\n",
       "      <th>famsize</th>\n",
       "      <th>Pstatus</th>\n",
       "      <th>Medu</th>\n",
       "      <th>Fedu</th>\n",
       "      <th>Mjob</th>\n",
       "      <th>Fjob</th>\n",
       "      <th>reason</th>\n",
       "      <th>guardian</th>\n",
       "      <th>traveltime</th>\n",
       "      <th>studytime</th>\n",
       "      <th>failures</th>\n",
       "      <th>schoolsup</th>\n",
       "      <th>famsup</th>\n",
       "      <th>paid</th>\n",
       "      <th>activities</th>\n",
       "      <th>nursery</th>\n",
       "      <th>higher</th>\n",
       "      <th>internet</th>\n",
       "      <th>romantic</th>\n",
       "      <th>famrel</th>\n",
       "      <th>freetime</th>\n",
       "      <th>goout</th>\n",
       "      <th>Dalc</th>\n",
       "      <th>Walc</th>\n",
       "      <th>health</th>\n",
       "      <th>absences</th>\n",
       "      <th>G1</th>\n",
       "      <th>G2</th>\n",
       "      <th>G3</th>\n",
       "    </tr>\n",
       "  </thead>\n",
       "  <tbody>\n",
       "    <tr>\n",
       "      <th>0</th>\n",
       "      <td>GP</td>\n",
       "      <td>F</td>\n",
       "      <td>18</td>\n",
       "      <td>U</td>\n",
       "      <td>GT3</td>\n",
       "      <td>A</td>\n",
       "      <td>4</td>\n",
       "      <td>4</td>\n",
       "      <td>at_home</td>\n",
       "      <td>teacher</td>\n",
       "      <td>course</td>\n",
       "      <td>mother</td>\n",
       "      <td>2</td>\n",
       "      <td>2</td>\n",
       "      <td>0</td>\n",
       "      <td>yes</td>\n",
       "      <td>no</td>\n",
       "      <td>no</td>\n",
       "      <td>no</td>\n",
       "      <td>yes</td>\n",
       "      <td>yes</td>\n",
       "      <td>no</td>\n",
       "      <td>no</td>\n",
       "      <td>4</td>\n",
       "      <td>3</td>\n",
       "      <td>4</td>\n",
       "      <td>1</td>\n",
       "      <td>1</td>\n",
       "      <td>3</td>\n",
       "      <td>6</td>\n",
       "      <td>5</td>\n",
       "      <td>6</td>\n",
       "      <td>6</td>\n",
       "    </tr>\n",
       "    <tr>\n",
       "      <th>1</th>\n",
       "      <td>GP</td>\n",
       "      <td>F</td>\n",
       "      <td>17</td>\n",
       "      <td>U</td>\n",
       "      <td>GT3</td>\n",
       "      <td>T</td>\n",
       "      <td>1</td>\n",
       "      <td>1</td>\n",
       "      <td>at_home</td>\n",
       "      <td>other</td>\n",
       "      <td>course</td>\n",
       "      <td>father</td>\n",
       "      <td>1</td>\n",
       "      <td>2</td>\n",
       "      <td>0</td>\n",
       "      <td>no</td>\n",
       "      <td>yes</td>\n",
       "      <td>no</td>\n",
       "      <td>no</td>\n",
       "      <td>no</td>\n",
       "      <td>yes</td>\n",
       "      <td>yes</td>\n",
       "      <td>no</td>\n",
       "      <td>5</td>\n",
       "      <td>3</td>\n",
       "      <td>3</td>\n",
       "      <td>1</td>\n",
       "      <td>1</td>\n",
       "      <td>3</td>\n",
       "      <td>4</td>\n",
       "      <td>5</td>\n",
       "      <td>5</td>\n",
       "      <td>6</td>\n",
       "    </tr>\n",
       "    <tr>\n",
       "      <th>2</th>\n",
       "      <td>GP</td>\n",
       "      <td>F</td>\n",
       "      <td>15</td>\n",
       "      <td>U</td>\n",
       "      <td>LE3</td>\n",
       "      <td>T</td>\n",
       "      <td>1</td>\n",
       "      <td>1</td>\n",
       "      <td>at_home</td>\n",
       "      <td>other</td>\n",
       "      <td>other</td>\n",
       "      <td>mother</td>\n",
       "      <td>1</td>\n",
       "      <td>2</td>\n",
       "      <td>3</td>\n",
       "      <td>yes</td>\n",
       "      <td>no</td>\n",
       "      <td>yes</td>\n",
       "      <td>no</td>\n",
       "      <td>yes</td>\n",
       "      <td>yes</td>\n",
       "      <td>yes</td>\n",
       "      <td>no</td>\n",
       "      <td>4</td>\n",
       "      <td>3</td>\n",
       "      <td>2</td>\n",
       "      <td>2</td>\n",
       "      <td>3</td>\n",
       "      <td>3</td>\n",
       "      <td>10</td>\n",
       "      <td>7</td>\n",
       "      <td>8</td>\n",
       "      <td>10</td>\n",
       "    </tr>\n",
       "    <tr>\n",
       "      <th>3</th>\n",
       "      <td>GP</td>\n",
       "      <td>F</td>\n",
       "      <td>15</td>\n",
       "      <td>U</td>\n",
       "      <td>GT3</td>\n",
       "      <td>T</td>\n",
       "      <td>4</td>\n",
       "      <td>2</td>\n",
       "      <td>health</td>\n",
       "      <td>services</td>\n",
       "      <td>home</td>\n",
       "      <td>mother</td>\n",
       "      <td>1</td>\n",
       "      <td>3</td>\n",
       "      <td>0</td>\n",
       "      <td>no</td>\n",
       "      <td>yes</td>\n",
       "      <td>yes</td>\n",
       "      <td>yes</td>\n",
       "      <td>yes</td>\n",
       "      <td>yes</td>\n",
       "      <td>yes</td>\n",
       "      <td>yes</td>\n",
       "      <td>3</td>\n",
       "      <td>2</td>\n",
       "      <td>2</td>\n",
       "      <td>1</td>\n",
       "      <td>1</td>\n",
       "      <td>5</td>\n",
       "      <td>2</td>\n",
       "      <td>15</td>\n",
       "      <td>14</td>\n",
       "      <td>15</td>\n",
       "    </tr>\n",
       "    <tr>\n",
       "      <th>4</th>\n",
       "      <td>GP</td>\n",
       "      <td>F</td>\n",
       "      <td>16</td>\n",
       "      <td>U</td>\n",
       "      <td>GT3</td>\n",
       "      <td>T</td>\n",
       "      <td>3</td>\n",
       "      <td>3</td>\n",
       "      <td>other</td>\n",
       "      <td>other</td>\n",
       "      <td>home</td>\n",
       "      <td>father</td>\n",
       "      <td>1</td>\n",
       "      <td>2</td>\n",
       "      <td>0</td>\n",
       "      <td>no</td>\n",
       "      <td>yes</td>\n",
       "      <td>yes</td>\n",
       "      <td>no</td>\n",
       "      <td>yes</td>\n",
       "      <td>yes</td>\n",
       "      <td>no</td>\n",
       "      <td>no</td>\n",
       "      <td>4</td>\n",
       "      <td>3</td>\n",
       "      <td>2</td>\n",
       "      <td>1</td>\n",
       "      <td>2</td>\n",
       "      <td>5</td>\n",
       "      <td>4</td>\n",
       "      <td>6</td>\n",
       "      <td>10</td>\n",
       "      <td>10</td>\n",
       "    </tr>\n",
       "  </tbody>\n",
       "</table>\n",
       "</div>"
      ],
      "text/plain": [
       "  school sex  age address famsize Pstatus  Medu  Fedu     Mjob      Fjob  \\\n",
       "0     GP   F   18       U     GT3       A     4     4  at_home   teacher   \n",
       "1     GP   F   17       U     GT3       T     1     1  at_home     other   \n",
       "2     GP   F   15       U     LE3       T     1     1  at_home     other   \n",
       "3     GP   F   15       U     GT3       T     4     2   health  services   \n",
       "4     GP   F   16       U     GT3       T     3     3    other     other   \n",
       "\n",
       "   reason guardian  traveltime  studytime  failures schoolsup famsup paid  \\\n",
       "0  course   mother           2          2         0       yes     no   no   \n",
       "1  course   father           1          2         0        no    yes   no   \n",
       "2   other   mother           1          2         3       yes     no  yes   \n",
       "3    home   mother           1          3         0        no    yes  yes   \n",
       "4    home   father           1          2         0        no    yes  yes   \n",
       "\n",
       "  activities nursery higher internet romantic  famrel  freetime  goout  Dalc  \\\n",
       "0         no     yes    yes       no       no       4         3      4     1   \n",
       "1         no      no    yes      yes       no       5         3      3     1   \n",
       "2         no     yes    yes      yes       no       4         3      2     2   \n",
       "3        yes     yes    yes      yes      yes       3         2      2     1   \n",
       "4         no     yes    yes       no       no       4         3      2     1   \n",
       "\n",
       "   Walc  health  absences  G1  G2  G3  \n",
       "0     1       3         6   5   6   6  \n",
       "1     1       3         4   5   5   6  \n",
       "2     3       3        10   7   8  10  \n",
       "3     1       5         2  15  14  15  \n",
       "4     2       5         4   6  10  10  "
      ]
     },
     "execution_count": 4,
     "metadata": {},
     "output_type": "execute_result"
    }
   ],
   "source": [
    "## read in the Data/student/student-mat.csv (it uses \";\" as the sep)\n",
    "df = pd.read_csv('Data/student/student-mat.csv',sep =';')\n",
    "# display info and .head\n",
    "df.info()\n",
    "df.head()"
   ]
  },
  {
   "cell_type": "code",
   "execution_count": 7,
   "id": "3309bb44",
   "metadata": {},
   "outputs": [],
   "source": [
    "## Calculate an Avg Grade column by averaging G1, G2,G3, \n",
    "# then divide by 20, and * 100 (to make %'s')\n",
    "df['avg grade'] = df[['G1','G2','G3']].mean(axis=1)/20*100"
   ]
  },
  {
   "cell_type": "code",
   "execution_count": 8,
   "id": "a377809e",
   "metadata": {},
   "outputs": [
    {
     "data": {
      "text/html": [
       "<div>\n",
       "<style scoped>\n",
       "    .dataframe tbody tr th:only-of-type {\n",
       "        vertical-align: middle;\n",
       "    }\n",
       "\n",
       "    .dataframe tbody tr th {\n",
       "        vertical-align: top;\n",
       "    }\n",
       "\n",
       "    .dataframe thead th {\n",
       "        text-align: right;\n",
       "    }\n",
       "</style>\n",
       "<table border=\"1\" class=\"dataframe\">\n",
       "  <thead>\n",
       "    <tr style=\"text-align: right;\">\n",
       "      <th></th>\n",
       "      <th>school</th>\n",
       "      <th>sex</th>\n",
       "      <th>age</th>\n",
       "      <th>address</th>\n",
       "      <th>famsize</th>\n",
       "      <th>Pstatus</th>\n",
       "      <th>Medu</th>\n",
       "      <th>Fedu</th>\n",
       "      <th>Mjob</th>\n",
       "      <th>Fjob</th>\n",
       "      <th>reason</th>\n",
       "      <th>guardian</th>\n",
       "      <th>traveltime</th>\n",
       "      <th>studytime</th>\n",
       "      <th>failures</th>\n",
       "      <th>schoolsup</th>\n",
       "      <th>famsup</th>\n",
       "      <th>paid</th>\n",
       "      <th>activities</th>\n",
       "      <th>nursery</th>\n",
       "      <th>higher</th>\n",
       "      <th>internet</th>\n",
       "      <th>romantic</th>\n",
       "      <th>famrel</th>\n",
       "      <th>freetime</th>\n",
       "      <th>goout</th>\n",
       "      <th>Dalc</th>\n",
       "      <th>Walc</th>\n",
       "      <th>health</th>\n",
       "      <th>absences</th>\n",
       "      <th>G1</th>\n",
       "      <th>G2</th>\n",
       "      <th>G3</th>\n",
       "      <th>avg grade</th>\n",
       "    </tr>\n",
       "  </thead>\n",
       "  <tbody>\n",
       "    <tr>\n",
       "      <th>0</th>\n",
       "      <td>GP</td>\n",
       "      <td>F</td>\n",
       "      <td>18</td>\n",
       "      <td>U</td>\n",
       "      <td>GT3</td>\n",
       "      <td>A</td>\n",
       "      <td>4</td>\n",
       "      <td>4</td>\n",
       "      <td>at_home</td>\n",
       "      <td>teacher</td>\n",
       "      <td>course</td>\n",
       "      <td>mother</td>\n",
       "      <td>2</td>\n",
       "      <td>2</td>\n",
       "      <td>0</td>\n",
       "      <td>yes</td>\n",
       "      <td>no</td>\n",
       "      <td>no</td>\n",
       "      <td>no</td>\n",
       "      <td>yes</td>\n",
       "      <td>yes</td>\n",
       "      <td>no</td>\n",
       "      <td>no</td>\n",
       "      <td>4</td>\n",
       "      <td>3</td>\n",
       "      <td>4</td>\n",
       "      <td>1</td>\n",
       "      <td>1</td>\n",
       "      <td>3</td>\n",
       "      <td>6</td>\n",
       "      <td>5</td>\n",
       "      <td>6</td>\n",
       "      <td>6</td>\n",
       "      <td>28.333333</td>\n",
       "    </tr>\n",
       "    <tr>\n",
       "      <th>1</th>\n",
       "      <td>GP</td>\n",
       "      <td>F</td>\n",
       "      <td>17</td>\n",
       "      <td>U</td>\n",
       "      <td>GT3</td>\n",
       "      <td>T</td>\n",
       "      <td>1</td>\n",
       "      <td>1</td>\n",
       "      <td>at_home</td>\n",
       "      <td>other</td>\n",
       "      <td>course</td>\n",
       "      <td>father</td>\n",
       "      <td>1</td>\n",
       "      <td>2</td>\n",
       "      <td>0</td>\n",
       "      <td>no</td>\n",
       "      <td>yes</td>\n",
       "      <td>no</td>\n",
       "      <td>no</td>\n",
       "      <td>no</td>\n",
       "      <td>yes</td>\n",
       "      <td>yes</td>\n",
       "      <td>no</td>\n",
       "      <td>5</td>\n",
       "      <td>3</td>\n",
       "      <td>3</td>\n",
       "      <td>1</td>\n",
       "      <td>1</td>\n",
       "      <td>3</td>\n",
       "      <td>4</td>\n",
       "      <td>5</td>\n",
       "      <td>5</td>\n",
       "      <td>6</td>\n",
       "      <td>26.666667</td>\n",
       "    </tr>\n",
       "    <tr>\n",
       "      <th>2</th>\n",
       "      <td>GP</td>\n",
       "      <td>F</td>\n",
       "      <td>15</td>\n",
       "      <td>U</td>\n",
       "      <td>LE3</td>\n",
       "      <td>T</td>\n",
       "      <td>1</td>\n",
       "      <td>1</td>\n",
       "      <td>at_home</td>\n",
       "      <td>other</td>\n",
       "      <td>other</td>\n",
       "      <td>mother</td>\n",
       "      <td>1</td>\n",
       "      <td>2</td>\n",
       "      <td>3</td>\n",
       "      <td>yes</td>\n",
       "      <td>no</td>\n",
       "      <td>yes</td>\n",
       "      <td>no</td>\n",
       "      <td>yes</td>\n",
       "      <td>yes</td>\n",
       "      <td>yes</td>\n",
       "      <td>no</td>\n",
       "      <td>4</td>\n",
       "      <td>3</td>\n",
       "      <td>2</td>\n",
       "      <td>2</td>\n",
       "      <td>3</td>\n",
       "      <td>3</td>\n",
       "      <td>10</td>\n",
       "      <td>7</td>\n",
       "      <td>8</td>\n",
       "      <td>10</td>\n",
       "      <td>41.666667</td>\n",
       "    </tr>\n",
       "    <tr>\n",
       "      <th>3</th>\n",
       "      <td>GP</td>\n",
       "      <td>F</td>\n",
       "      <td>15</td>\n",
       "      <td>U</td>\n",
       "      <td>GT3</td>\n",
       "      <td>T</td>\n",
       "      <td>4</td>\n",
       "      <td>2</td>\n",
       "      <td>health</td>\n",
       "      <td>services</td>\n",
       "      <td>home</td>\n",
       "      <td>mother</td>\n",
       "      <td>1</td>\n",
       "      <td>3</td>\n",
       "      <td>0</td>\n",
       "      <td>no</td>\n",
       "      <td>yes</td>\n",
       "      <td>yes</td>\n",
       "      <td>yes</td>\n",
       "      <td>yes</td>\n",
       "      <td>yes</td>\n",
       "      <td>yes</td>\n",
       "      <td>yes</td>\n",
       "      <td>3</td>\n",
       "      <td>2</td>\n",
       "      <td>2</td>\n",
       "      <td>1</td>\n",
       "      <td>1</td>\n",
       "      <td>5</td>\n",
       "      <td>2</td>\n",
       "      <td>15</td>\n",
       "      <td>14</td>\n",
       "      <td>15</td>\n",
       "      <td>73.333333</td>\n",
       "    </tr>\n",
       "    <tr>\n",
       "      <th>4</th>\n",
       "      <td>GP</td>\n",
       "      <td>F</td>\n",
       "      <td>16</td>\n",
       "      <td>U</td>\n",
       "      <td>GT3</td>\n",
       "      <td>T</td>\n",
       "      <td>3</td>\n",
       "      <td>3</td>\n",
       "      <td>other</td>\n",
       "      <td>other</td>\n",
       "      <td>home</td>\n",
       "      <td>father</td>\n",
       "      <td>1</td>\n",
       "      <td>2</td>\n",
       "      <td>0</td>\n",
       "      <td>no</td>\n",
       "      <td>yes</td>\n",
       "      <td>yes</td>\n",
       "      <td>no</td>\n",
       "      <td>yes</td>\n",
       "      <td>yes</td>\n",
       "      <td>no</td>\n",
       "      <td>no</td>\n",
       "      <td>4</td>\n",
       "      <td>3</td>\n",
       "      <td>2</td>\n",
       "      <td>1</td>\n",
       "      <td>2</td>\n",
       "      <td>5</td>\n",
       "      <td>4</td>\n",
       "      <td>6</td>\n",
       "      <td>10</td>\n",
       "      <td>10</td>\n",
       "      <td>43.333333</td>\n",
       "    </tr>\n",
       "    <tr>\n",
       "      <th>...</th>\n",
       "      <td>...</td>\n",
       "      <td>...</td>\n",
       "      <td>...</td>\n",
       "      <td>...</td>\n",
       "      <td>...</td>\n",
       "      <td>...</td>\n",
       "      <td>...</td>\n",
       "      <td>...</td>\n",
       "      <td>...</td>\n",
       "      <td>...</td>\n",
       "      <td>...</td>\n",
       "      <td>...</td>\n",
       "      <td>...</td>\n",
       "      <td>...</td>\n",
       "      <td>...</td>\n",
       "      <td>...</td>\n",
       "      <td>...</td>\n",
       "      <td>...</td>\n",
       "      <td>...</td>\n",
       "      <td>...</td>\n",
       "      <td>...</td>\n",
       "      <td>...</td>\n",
       "      <td>...</td>\n",
       "      <td>...</td>\n",
       "      <td>...</td>\n",
       "      <td>...</td>\n",
       "      <td>...</td>\n",
       "      <td>...</td>\n",
       "      <td>...</td>\n",
       "      <td>...</td>\n",
       "      <td>...</td>\n",
       "      <td>...</td>\n",
       "      <td>...</td>\n",
       "      <td>...</td>\n",
       "    </tr>\n",
       "    <tr>\n",
       "      <th>390</th>\n",
       "      <td>MS</td>\n",
       "      <td>M</td>\n",
       "      <td>20</td>\n",
       "      <td>U</td>\n",
       "      <td>LE3</td>\n",
       "      <td>A</td>\n",
       "      <td>2</td>\n",
       "      <td>2</td>\n",
       "      <td>services</td>\n",
       "      <td>services</td>\n",
       "      <td>course</td>\n",
       "      <td>other</td>\n",
       "      <td>1</td>\n",
       "      <td>2</td>\n",
       "      <td>2</td>\n",
       "      <td>no</td>\n",
       "      <td>yes</td>\n",
       "      <td>yes</td>\n",
       "      <td>no</td>\n",
       "      <td>yes</td>\n",
       "      <td>yes</td>\n",
       "      <td>no</td>\n",
       "      <td>no</td>\n",
       "      <td>5</td>\n",
       "      <td>5</td>\n",
       "      <td>4</td>\n",
       "      <td>4</td>\n",
       "      <td>5</td>\n",
       "      <td>4</td>\n",
       "      <td>11</td>\n",
       "      <td>9</td>\n",
       "      <td>9</td>\n",
       "      <td>9</td>\n",
       "      <td>45.000000</td>\n",
       "    </tr>\n",
       "    <tr>\n",
       "      <th>391</th>\n",
       "      <td>MS</td>\n",
       "      <td>M</td>\n",
       "      <td>17</td>\n",
       "      <td>U</td>\n",
       "      <td>LE3</td>\n",
       "      <td>T</td>\n",
       "      <td>3</td>\n",
       "      <td>1</td>\n",
       "      <td>services</td>\n",
       "      <td>services</td>\n",
       "      <td>course</td>\n",
       "      <td>mother</td>\n",
       "      <td>2</td>\n",
       "      <td>1</td>\n",
       "      <td>0</td>\n",
       "      <td>no</td>\n",
       "      <td>no</td>\n",
       "      <td>no</td>\n",
       "      <td>no</td>\n",
       "      <td>no</td>\n",
       "      <td>yes</td>\n",
       "      <td>yes</td>\n",
       "      <td>no</td>\n",
       "      <td>2</td>\n",
       "      <td>4</td>\n",
       "      <td>5</td>\n",
       "      <td>3</td>\n",
       "      <td>4</td>\n",
       "      <td>2</td>\n",
       "      <td>3</td>\n",
       "      <td>14</td>\n",
       "      <td>16</td>\n",
       "      <td>16</td>\n",
       "      <td>76.666667</td>\n",
       "    </tr>\n",
       "    <tr>\n",
       "      <th>392</th>\n",
       "      <td>MS</td>\n",
       "      <td>M</td>\n",
       "      <td>21</td>\n",
       "      <td>R</td>\n",
       "      <td>GT3</td>\n",
       "      <td>T</td>\n",
       "      <td>1</td>\n",
       "      <td>1</td>\n",
       "      <td>other</td>\n",
       "      <td>other</td>\n",
       "      <td>course</td>\n",
       "      <td>other</td>\n",
       "      <td>1</td>\n",
       "      <td>1</td>\n",
       "      <td>3</td>\n",
       "      <td>no</td>\n",
       "      <td>no</td>\n",
       "      <td>no</td>\n",
       "      <td>no</td>\n",
       "      <td>no</td>\n",
       "      <td>yes</td>\n",
       "      <td>no</td>\n",
       "      <td>no</td>\n",
       "      <td>5</td>\n",
       "      <td>5</td>\n",
       "      <td>3</td>\n",
       "      <td>3</td>\n",
       "      <td>3</td>\n",
       "      <td>3</td>\n",
       "      <td>3</td>\n",
       "      <td>10</td>\n",
       "      <td>8</td>\n",
       "      <td>7</td>\n",
       "      <td>41.666667</td>\n",
       "    </tr>\n",
       "    <tr>\n",
       "      <th>393</th>\n",
       "      <td>MS</td>\n",
       "      <td>M</td>\n",
       "      <td>18</td>\n",
       "      <td>R</td>\n",
       "      <td>LE3</td>\n",
       "      <td>T</td>\n",
       "      <td>3</td>\n",
       "      <td>2</td>\n",
       "      <td>services</td>\n",
       "      <td>other</td>\n",
       "      <td>course</td>\n",
       "      <td>mother</td>\n",
       "      <td>3</td>\n",
       "      <td>1</td>\n",
       "      <td>0</td>\n",
       "      <td>no</td>\n",
       "      <td>no</td>\n",
       "      <td>no</td>\n",
       "      <td>no</td>\n",
       "      <td>no</td>\n",
       "      <td>yes</td>\n",
       "      <td>yes</td>\n",
       "      <td>no</td>\n",
       "      <td>4</td>\n",
       "      <td>4</td>\n",
       "      <td>1</td>\n",
       "      <td>3</td>\n",
       "      <td>4</td>\n",
       "      <td>5</td>\n",
       "      <td>0</td>\n",
       "      <td>11</td>\n",
       "      <td>12</td>\n",
       "      <td>10</td>\n",
       "      <td>55.000000</td>\n",
       "    </tr>\n",
       "    <tr>\n",
       "      <th>394</th>\n",
       "      <td>MS</td>\n",
       "      <td>M</td>\n",
       "      <td>19</td>\n",
       "      <td>U</td>\n",
       "      <td>LE3</td>\n",
       "      <td>T</td>\n",
       "      <td>1</td>\n",
       "      <td>1</td>\n",
       "      <td>other</td>\n",
       "      <td>at_home</td>\n",
       "      <td>course</td>\n",
       "      <td>father</td>\n",
       "      <td>1</td>\n",
       "      <td>1</td>\n",
       "      <td>0</td>\n",
       "      <td>no</td>\n",
       "      <td>no</td>\n",
       "      <td>no</td>\n",
       "      <td>no</td>\n",
       "      <td>yes</td>\n",
       "      <td>yes</td>\n",
       "      <td>yes</td>\n",
       "      <td>no</td>\n",
       "      <td>3</td>\n",
       "      <td>2</td>\n",
       "      <td>3</td>\n",
       "      <td>3</td>\n",
       "      <td>3</td>\n",
       "      <td>5</td>\n",
       "      <td>5</td>\n",
       "      <td>8</td>\n",
       "      <td>9</td>\n",
       "      <td>9</td>\n",
       "      <td>43.333333</td>\n",
       "    </tr>\n",
       "  </tbody>\n",
       "</table>\n",
       "<p>395 rows × 34 columns</p>\n",
       "</div>"
      ],
      "text/plain": [
       "    school sex  age address famsize Pstatus  Medu  Fedu      Mjob      Fjob  \\\n",
       "0       GP   F   18       U     GT3       A     4     4   at_home   teacher   \n",
       "1       GP   F   17       U     GT3       T     1     1   at_home     other   \n",
       "2       GP   F   15       U     LE3       T     1     1   at_home     other   \n",
       "3       GP   F   15       U     GT3       T     4     2    health  services   \n",
       "4       GP   F   16       U     GT3       T     3     3     other     other   \n",
       "..     ...  ..  ...     ...     ...     ...   ...   ...       ...       ...   \n",
       "390     MS   M   20       U     LE3       A     2     2  services  services   \n",
       "391     MS   M   17       U     LE3       T     3     1  services  services   \n",
       "392     MS   M   21       R     GT3       T     1     1     other     other   \n",
       "393     MS   M   18       R     LE3       T     3     2  services     other   \n",
       "394     MS   M   19       U     LE3       T     1     1     other   at_home   \n",
       "\n",
       "     reason guardian  traveltime  studytime  failures schoolsup famsup paid  \\\n",
       "0    course   mother           2          2         0       yes     no   no   \n",
       "1    course   father           1          2         0        no    yes   no   \n",
       "2     other   mother           1          2         3       yes     no  yes   \n",
       "3      home   mother           1          3         0        no    yes  yes   \n",
       "4      home   father           1          2         0        no    yes  yes   \n",
       "..      ...      ...         ...        ...       ...       ...    ...  ...   \n",
       "390  course    other           1          2         2        no    yes  yes   \n",
       "391  course   mother           2          1         0        no     no   no   \n",
       "392  course    other           1          1         3        no     no   no   \n",
       "393  course   mother           3          1         0        no     no   no   \n",
       "394  course   father           1          1         0        no     no   no   \n",
       "\n",
       "    activities nursery higher internet romantic  famrel  freetime  goout  \\\n",
       "0           no     yes    yes       no       no       4         3      4   \n",
       "1           no      no    yes      yes       no       5         3      3   \n",
       "2           no     yes    yes      yes       no       4         3      2   \n",
       "3          yes     yes    yes      yes      yes       3         2      2   \n",
       "4           no     yes    yes       no       no       4         3      2   \n",
       "..         ...     ...    ...      ...      ...     ...       ...    ...   \n",
       "390         no     yes    yes       no       no       5         5      4   \n",
       "391         no      no    yes      yes       no       2         4      5   \n",
       "392         no      no    yes       no       no       5         5      3   \n",
       "393         no      no    yes      yes       no       4         4      1   \n",
       "394         no     yes    yes      yes       no       3         2      3   \n",
       "\n",
       "     Dalc  Walc  health  absences  G1  G2  G3  avg grade  \n",
       "0       1     1       3         6   5   6   6  28.333333  \n",
       "1       1     1       3         4   5   5   6  26.666667  \n",
       "2       2     3       3        10   7   8  10  41.666667  \n",
       "3       1     1       5         2  15  14  15  73.333333  \n",
       "4       1     2       5         4   6  10  10  43.333333  \n",
       "..    ...   ...     ...       ...  ..  ..  ..        ...  \n",
       "390     4     5       4        11   9   9   9  45.000000  \n",
       "391     3     4       2         3  14  16  16  76.666667  \n",
       "392     3     3       3         3  10   8   7  41.666667  \n",
       "393     3     4       5         0  11  12  10  55.000000  \n",
       "394     3     3       5         5   8   9   9  43.333333  \n",
       "\n",
       "[395 rows x 34 columns]"
      ]
     },
     "execution_count": 8,
     "metadata": {},
     "output_type": "execute_result"
    }
   ],
   "source": [
    "df"
   ]
  },
  {
   "cell_type": "code",
   "execution_count": 9,
   "id": "083d0acb",
   "metadata": {},
   "outputs": [
    {
     "data": {
      "text/plain": [
       "<AxesSubplot: xlabel='avg grade', ylabel='Count'>"
      ]
     },
     "execution_count": 9,
     "metadata": {},
     "output_type": "execute_result"
    },
    {
     "data": {
      "image/png": "[encoded data removed]",
      "text/plain": [
       "<Figure size 1200x600 with 1 Axes>"
      ]
     },
     "metadata": {},
     "output_type": "display_data"
    }
   ],
   "source": [
    "## plot the distribution of Avg Grade \n",
    "sns.histplot(data= df, x= 'avg grade',kde = True)"
   ]
  },
  {
   "cell_type": "markdown",
   "id": "14201002",
   "metadata": {},
   "source": [
    "> Is it normally distributed?"
   ]
  },
  {
   "cell_type": "code",
   "execution_count": 10,
   "id": "3c6590cf",
   "metadata": {},
   "outputs": [
    {
     "data": {
      "text/plain": [
       "NormaltestResult(statistic=3.692867619196469, pvalue=0.15779890502520094)"
      ]
     },
     "execution_count": 10,
     "metadata": {},
     "output_type": "execute_result"
    }
   ],
   "source": [
    "\n",
    "## use scipy's normaltest\n",
    "stats.normaltest(df['avg grade'])"
   ]
  },
  {
   "cell_type": "markdown",
   "id": "caf3f37f",
   "metadata": {},
   "source": [
    "- We have our p-value for our normaltest, but what does it mean??\n",
    "    - Check the docstring for the normaltest to find out the null hypothesis of the test."
   ]
  },
  {
   "cell_type": "markdown",
   "id": "9f47ff3c",
   "metadata": {},
   "source": [
    "### Calculating Probabilities with Scipy's  Probability Density Functions"
   ]
  },
  {
   "cell_type": "code",
   "execution_count": 13,
   "id": "be610207",
   "metadata": {},
   "outputs": [
    {
     "data": {
      "text/plain": [
       "mean    53.396624\n",
       "std     18.483928\n",
       "min      6.666667\n",
       "max     96.666667\n",
       "Name: avg grade, dtype: float64"
      ]
     },
     "execution_count": 13,
     "metadata": {},
     "output_type": "execute_result"
    }
   ],
   "source": [
    "## Get the mean, std, min, and max for the Avg Grade column\n",
    "mean = df['avg grade'].mean()\n",
    "std = df['avg grade'].std()\n",
    "min = df['avg grade'].min()\n",
    "max = df['avg grade'].max()\n",
    "dist_stats = df['avg grade'].agg(['mean', 'std', 'min', 'max'])\n",
    "dist_stats"
   ]
  },
  {
   "cell_type": "code",
   "execution_count": 12,
   "id": "c3674903",
   "metadata": {},
   "outputs": [
    {
     "data": {
      "text/plain": [
       "array([6.66666667, 6.75675676, 6.84684685, 6.93693694, 7.02702703,\n",
       "       7.11711712, 7.20720721, 7.2972973 , 7.38738739, 7.47747748])"
      ]
     },
     "execution_count": 12,
     "metadata": {},
     "output_type": "execute_result"
    }
   ],
   "source": [
    "## generate a linearly-spaced array of values that span the min to the max\n",
    "xs = np.linspace(min, max, 1000)\n",
    "xs[:10]"
   ]
  },
  {
   "cell_type": "code",
   "execution_count": 15,
   "id": "7a0d43b9",
   "metadata": {},
   "outputs": [],
   "source": [
    "## use stats.norm.pdf to get the PDF curve that corresponds to your distribution's values\n",
    "pdf = stats.norm.pdf(xs, loc = mean, scale= std)"
   ]
  },
  {
   "cell_type": "code",
   "execution_count": 29,
   "id": "2fe4e1da",
   "metadata": {},
   "outputs": [
    {
     "data": {
      "text/plain": [
       "[<matplotlib.lines.Line2D at 0x1406f2970>]"
      ]
     },
     "execution_count": 29,
     "metadata": {},
     "output_type": "execute_result"
    },
    {
     "data": {
      "image/png": "[encoded data removed]",
      "text/plain": [
       "<Figure size 1200x600 with 1 Axes>"
      ]
     },
     "metadata": {},
     "output_type": "display_data"
    }
   ],
   "source": [
    "## Plot the histogram again AND then plot the pdf we calculated.\n",
    "fig, ax = plt.subplots()\n",
    "sns.histplot(df['avg grade'], ax = ax, zorder = 0, stat = 'density')\n",
    "ax.plot(xs, pdf, color = 'r')"
   ]
  },
  {
   "cell_type": "markdown",
   "id": "90b4d8ca",
   "metadata": {},
   "source": [
    "> Looks pretty normal! But can we confirm for a fact that its normal?"
   ]
  },
  {
   "cell_type": "markdown",
   "id": "c034b113",
   "metadata": {},
   "source": [
    "### Q1: what is the probability of a student getting a score of 90 or above?"
   ]
  },
  {
   "cell_type": "code",
   "execution_count": null,
   "id": "3ead3f6c",
   "metadata": {},
   "outputs": [],
   "source": [
    "## Plot the histogram again AND pdf again\n",
    "\n",
    "\n",
    "## Add a vpsan to the plot showing the region we want to calc prob for\n"
   ]
  },
  {
   "cell_type": "markdown",
   "id": "1c0cb061",
   "metadata": {},
   "source": [
    "> How can we calculate this probability? Can we use the PDF?"
   ]
  },
  {
   "cell_type": "code",
   "execution_count": null,
   "id": "f7667833",
   "metadata": {},
   "outputs": [],
   "source": [
    "## try making a list of values from 90-100 and getting the pdf values\n",
    "\n",
    "## Sum the values to get the total probability. \n"
   ]
  },
  {
   "cell_type": "markdown",
   "id": "43d5f164",
   "metadata": {},
   "source": [
    "> Whats the flaw to this approach?"
   ]
  },
  {
   "cell_type": "code",
   "execution_count": null,
   "id": "d7911035",
   "metadata": {},
   "outputs": [],
   "source": []
  },
  {
   "cell_type": "markdown",
   "id": "8b9637c2",
   "metadata": {},
   "source": [
    "> Now, we want the opposite probability, probability of being GREATER Than 90.\n"
   ]
  },
  {
   "cell_type": "code",
   "execution_count": null,
   "id": "83c54108",
   "metadata": {},
   "outputs": [],
   "source": [
    "# calc 1-prob of 90 or lower.\n"
   ]
  },
  {
   "cell_type": "code",
   "execution_count": null,
   "id": "8a451e10",
   "metadata": {},
   "outputs": [],
   "source": []
  },
  {
   "cell_type": "code",
   "execution_count": null,
   "id": "b06cb71b",
   "metadata": {},
   "outputs": [],
   "source": []
  },
  {
   "cell_type": "markdown",
   "id": "3d01b3b7",
   "metadata": {},
   "source": [
    "- Answer: there is a 2.4% chance of having a score greater than 90."
   ]
  },
  {
   "cell_type": "markdown",
   "id": "9dc5581e",
   "metadata": {},
   "source": [
    "# Hypothesis Testing"
   ]
  },
  {
   "cell_type": "markdown",
   "id": "3d578dd9",
   "metadata": {},
   "source": [
    "## Q: Do students with internet access have different average grades than students who do not have internet access?"
   ]
  },
  {
   "cell_type": "markdown",
   "id": "b79b895a",
   "metadata": {},
   "source": [
    "### State The Hypothesis "
   ]
  },
  {
   "cell_type": "markdown",
   "id": "f6292cd4",
   "metadata": {},
   "source": [
    "- $H_0$ (Null Hypothesis): Students with internet access have the same average grades as students who do not. \n",
    "- $H_A$ (Alternative Hypothesis): Students with internet access have significantly different average grades compared to students who do not. "
   ]
  },
  {
   "cell_type": "markdown",
   "id": "9eb03f55",
   "metadata": {},
   "source": [
    "### Visualize and Separate Groups"
   ]
  },
  {
   "cell_type": "markdown",
   "id": "aee0b161",
   "metadata": {},
   "source": [
    "- Visualize the histogram of Avg Grade again, but separate it into groups based on the \"internet\" column.\n",
    "- Note: when comparing 2 groups with seaborn's histplot, you will want to add `common_norm=False`"
   ]
  },
  {
   "cell_type": "code",
   "execution_count": null,
   "id": "c9f8f1b4",
   "metadata": {},
   "outputs": [],
   "source": [
    "## visualize the histobram of Avg Grade again, but separate it by \"internet\"\n",
    "sns.histplot(data=df, x='avg grade', hue='internet',common_norm=False, \n",
    "             stat='density',kde=True)"
   ]
  },
  {
   "cell_type": "code",
   "execution_count": null,
   "id": "f509bd3e",
   "metadata": {},
   "outputs": [],
   "source": [
    "## Plot a bar plot of the Avg Grade for students with internet vs those that do not have it\n",
    "sns.barplot(data=df, y='avg grade', x='internet',)"
   ]
  },
  {
   "cell_type": "code",
   "execution_count": null,
   "id": "3ec268a1",
   "metadata": {},
   "outputs": [],
   "source": [
    "## Separate the 2 groups into 2 varaibles\n",
    "grp_yes = df.loc[ df['internet']=='yes','avg grade']\n",
    "grp_yes\n",
    "grp_no = df.loc[ df['internet']!='yes','avg grade']\n",
    "grp_no"
   ]
  },
  {
   "cell_type": "markdown",
   "id": "c137f563",
   "metadata": {},
   "source": [
    "### T-Test Assumptions"
   ]
  },
  {
   "cell_type": "markdown",
   "id": "b7d21383",
   "metadata": {},
   "source": [
    "- Since we are comparing a numeric measurement between 2 groups, we want to run a 2-sample (AKA independent T-test).\n",
    "\n",
    "- The Assumptions are:\n",
    "    - No significant outliers\n",
    "    - Normality \n",
    "    - Equal Variance "
   ]
  },
  {
   "cell_type": "markdown",
   "id": "bf074e14",
   "metadata": {},
   "source": [
    "#### Assumption: No Sig. Outliers"
   ]
  },
  {
   "cell_type": "code",
   "execution_count": null,
   "id": "38e8ff2e",
   "metadata": {},
   "outputs": [],
   "source": [
    "## check yes group for outliers using z-score >3 rule.\n",
    "idx_outliers_yes = np.abs(stats.zscore(grp_yes)) > 3\n",
    "idx_outliers_yes.sum()"
   ]
  },
  {
   "cell_type": "code",
   "execution_count": null,
   "id": "de8f0aca",
   "metadata": {},
   "outputs": [],
   "source": [
    "## check no group for outliers using z-score >3 rule.\n",
    "idx_outliers_no = np.abs(stats.zscore(grp_no)) > 3\n",
    "idx_outliers_no.sum()"
   ]
  },
  {
   "cell_type": "markdown",
   "id": "a0728a51",
   "metadata": {},
   "source": [
    "> No outliers to worry about! Assumption met."
   ]
  },
  {
   "cell_type": "markdown",
   "id": "fbefdee7",
   "metadata": {},
   "source": [
    "#### Assumption: Normally Distributed Groups"
   ]
  },
  {
   "cell_type": "code",
   "execution_count": null,
   "id": "adf86247",
   "metadata": {},
   "outputs": [],
   "source": [
    "## use normaltest to check if yes group is normally distributed\n",
    "stats.normaltest(grp_no)"
   ]
  },
  {
   "cell_type": "code",
   "execution_count": null,
   "id": "2f068dc6",
   "metadata": {},
   "outputs": [],
   "source": [
    "## use normaltest to check if no group is normally distributed\n",
    "stats.normaltest(grp_yes)"
   ]
  },
  {
   "cell_type": "markdown",
   "id": "fa064c48",
   "metadata": {},
   "source": [
    ">- Did we meet the assumption of normality?"
   ]
  },
  {
   "cell_type": "markdown",
   "id": "09d36c04",
   "metadata": {},
   "source": [
    "#### Assumption: Equal Variance"
   ]
  },
  {
   "cell_type": "code",
   "execution_count": null,
   "id": "afeccdf5",
   "metadata": {},
   "outputs": [],
   "source": [
    "## use Levene's test to check if groups have equal variance\n",
    "stats.levene(grp_no, grp_yes)"
   ]
  },
  {
   "cell_type": "markdown",
   "id": "6194811d",
   "metadata": {},
   "source": [
    "> Did we meet the assumption of equal variance?"
   ]
  },
  {
   "cell_type": "markdown",
   "id": "1f829dc6",
   "metadata": {},
   "source": [
    "### Perform Final Hypothesis Test (T-Test)"
   ]
  },
  {
   "cell_type": "markdown",
   "id": "e119b7cd",
   "metadata": {},
   "source": [
    "- Since we met all of the assumptions for the test we can proceed with our t-test.\n",
    "    - Next class we will discuss what we would do if we did NOT meet the assumptions."
   ]
  },
  {
   "cell_type": "code",
   "execution_count": null,
   "id": "0fa18419",
   "metadata": {},
   "outputs": [],
   "source": [
    "## run stats.ttest_ind on the 2 groups\n",
    "stats.ttest_ind(grp_no, grp_yes)"
   ]
  },
  {
   "cell_type": "markdown",
   "id": "5cc9cdcf",
   "metadata": {},
   "source": [
    "> What is our p-value? Is it less than our alpha of .05? What does this mean?"
   ]
  },
  {
   "cell_type": "markdown",
   "id": "fdff6dac",
   "metadata": {},
   "source": [
    ">Our T-Test returned a p-value of `____`. Since p `</>`.05, we `can reject/fail to reject` the null hypothesis that students with internet access have the same average grades as students who do not. \n",
    "\n",
    "We therefore conclude that there `is/is not` a significant difference in Average Grades between students who do/do not have internet access.\n",
    "\n",
    "Our visualization below shows that students with internet access have `HIGHER/LOWER/EQUAL` average grades."
   ]
  },
  {
   "cell_type": "code",
   "execution_count": null,
   "id": "95467641",
   "metadata": {},
   "outputs": [],
   "source": [
    "## Add a summary visual to support our results.\n",
    "sns.barplot(data=df, x='internet',y='Avg Grade')"
   ]
  },
  {
   "cell_type": "markdown",
   "id": "53a44d1f",
   "metadata": {},
   "source": [
    "# Challenge : What is the probability of a student getting a score of less than 30 ?"
   ]
  },
  {
   "cell_type": "code",
   "execution_count": 31,
   "id": "e27ecef8",
   "metadata": {},
   "outputs": [
    {
     "data": {
      "text/plain": [
       "<matplotlib.patches.Polygon at 0x1421547c0>"
      ]
     },
     "execution_count": 31,
     "metadata": {},
     "output_type": "execute_result"
    },
    {
     "data": {
      "image/png": "[encoded data removed]",
      "text/plain": [
       "<Figure size 1200x600 with 1 Axes>"
      ]
     },
     "metadata": {},
     "output_type": "display_data"
    }
   ],
   "source": [
    "## Plot the histogram again AND pdf again\n",
    "\n",
    "sns.histplot(df['avg grade'], stat= 'density')\n",
    "## Add a vpsan to the plot showing the region we want to calc prob for\n",
    "plt.axvspan(0, 30, color = 'yellow', zorder = 0)"
   ]
  },
  {
   "cell_type": "markdown",
   "id": "a7c33f35",
   "metadata": {},
   "source": [
    "> How can we calculate this probability? Can we use the PDF  ?"
   ]
  },
  {
   "cell_type": "code",
   "execution_count": 36,
   "id": "cdd5dea7",
   "metadata": {},
   "outputs": [
    {
     "data": {
      "text/plain": [
       "0.09623570695224681"
      ]
     },
     "execution_count": 36,
     "metadata": {},
     "output_type": "execute_result"
    }
   ],
   "source": [
    "## try making a list of values less than 30 and getting the pdf values\n",
    "less_30 = list(range(0, 30))\n",
    "less_30_pdf = stats.norm.pdf(less_30, loc = dist_stats.loc['mean'], scale = dist_stats.loc['std'])\n",
    "## Sum the values to get the total probability. \n",
    "less_30_pdf.sum()"
   ]
  },
  {
   "cell_type": "markdown",
   "id": "41e64e21",
   "metadata": {},
   "source": [
    "OR"
   ]
  },
  {
   "cell_type": "code",
   "execution_count": 33,
   "id": "242c6106",
   "metadata": {},
   "outputs": [
    {
     "data": {
      "text/plain": [
       "0.10279556178477078"
      ]
     },
     "execution_count": 33,
     "metadata": {},
     "output_type": "execute_result"
    }
   ],
   "source": [
    "\n",
    "## Use the cumulative density function to find prob of 30 OR lower.\n",
    "cdf_30 = stats.norm.cdf(30, loc=dist_stats.loc['mean'], scale=dist_stats.loc['std'])\n",
    "cdf_30"
   ]
  },
  {
   "cell_type": "code",
   "execution_count": null,
   "id": "bc6581f0",
   "metadata": {},
   "outputs": [],
   "source": []
  },
  {
   "cell_type": "markdown",
   "id": "d71e09d8",
   "metadata": {},
   "source": [
    "- Answer:"
   ]
  },
  {
   "cell_type": "code",
   "execution_count": null,
   "id": "b96f686a",
   "metadata": {},
   "outputs": [],
   "source": []
  }
 ],
 "metadata": {
  "kernelspec": {
   "display_name": "Python (dojo-env)",
   "language": "python",
   "name": "dojo-env"
  },
  "language_info": {
   "codemirror_mode": {
    "name": "ipython",
    "version": 3
   },
   "file_extension": ".py",
   "mimetype": "text/x-python",
   "name": "python",
   "nbconvert_exporter": "python",
   "pygments_lexer": "ipython3",
   "version": "3.9.15"
  },
  "toc": {
   "base_numbering": 1,
   "nav_menu": {},
   "number_sections": false,
   "sideBar": true,
   "skip_h1_title": false,
   "title_cell": "Table of Contents",
   "title_sidebar": "Contents",
   "toc_cell": false,
   "toc_position": {
    "height": "calc(100% - 180px)",
    "left": "10px",
    "top": "150px",
    "width": "204.984px"
   },
   "toc_section_display": true,
   "toc_window_display": false
  }
 },
 "nbformat": 4,
 "nbformat_minor": 5
}
